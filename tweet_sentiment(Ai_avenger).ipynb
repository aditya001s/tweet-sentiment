{
  "cells": [
    {
      "cell_type": "markdown",
      "id": "a93dcd0a-9038-4bce-a8d4-036f845150f4",
      "metadata": {
        "id": "a93dcd0a-9038-4bce-a8d4-036f845150f4"
      },
      "source": [
        "# PROBLEM"
      ]
    },
    {
      "cell_type": "markdown",
      "id": "2babbffa-ea40-44f0-ac88-0447271a4c2c",
      "metadata": {
        "id": "2babbffa-ea40-44f0-ac88-0447271a4c2c"
      },
      "source": [
        "\n",
        "\n",
        "Develop a  Tweet sentiment analysis system for X (formerly Twitter) to categorize tweets as negative, positive, or neutral emotions, enabling insights into public opinion on various topics using NLP and ML models."
      ]
    },
    {
      "cell_type": "markdown",
      "source": [
        "PROJECT OUTLINE\n",
        "\n",
        "Data Collection: Use a pre-existing dataset like Sentiment140 or create your own by scraping tweets using the Twitter API.\n",
        "\n",
        "Preprocessing: Clean the text data (remove stopwords, punctuation, etc.).\n",
        "\n",
        "Feature Extraction: Convert tweets into numerical features (e.g., TF-IDF).\n",
        "\n",
        "Model Training: Train a machine learning model like Logistic Regression or Naive Bayes using Scikit-learn.\n",
        "\n",
        "Evaluation: Evaluate the model using metrics like accuracy, precision, recall, and F1-score"
      ],
      "metadata": {
        "id": "zAFbKPcBoNYD"
      },
      "id": "zAFbKPcBoNYD"
    },
    {
      "cell_type": "markdown",
      "source": [
        "Step-by-Step Implementation:\n",
        "\n",
        "Install the required library"
      ],
      "metadata": {
        "id": "wOsqJhMCo80D"
      },
      "id": "wOsqJhMCo80D"
    },
    {
      "cell_type": "code",
      "execution_count": null,
      "id": "b48436e8-a2db-4c09-9f40-dd04a5a355b3",
      "metadata": {
        "id": "b48436e8-a2db-4c09-9f40-dd04a5a355b3"
      },
      "outputs": [],
      "source": [
        "\n",
        "import re #regex\n",
        "import numpy as np\n",
        "import pandas as pd\n",
        "\n",
        "\n",
        "import seaborn as sns\n",
        "from wordcloud import WordCloud\n",
        "import matplotlib.pyplot as plt\n",
        "\n",
        "\n",
        "from nltk.stem import WordNetLemmatizer #Lemmatization is the process of reducing the word (running -> run, cats-> cat)\n",
        "\n",
        "\n",
        "from sklearn.svm import LinearSVC\n",
        "from sklearn.naive_bayes import BernoulliNB\n",
        "from sklearn.linear_model import LogisticRegression\n",
        "from sklearn.model_selection import train_test_split\n",
        "from sklearn.feature_extraction.text import TfidfVectorizer\n",
        "from sklearn.metrics import confusion_matrix, classification_report"
      ]
    },
    {
      "cell_type": "markdown",
      "id": "ac7707e2-799f-406b-9ef2-3d0d8e835549",
      "metadata": {
        "id": "ac7707e2-799f-406b-9ef2-3d0d8e835549"
      },
      "source": [
        "#### Reading and Loading the dataset"
      ]
    },
    {
      "cell_type": "code",
      "execution_count": null,
      "id": "8ca98e72-cde4-466a-8e11-19daec4cbd6c",
      "metadata": {
        "id": "8ca98e72-cde4-466a-8e11-19daec4cbd6c"
      },
      "outputs": [],
      "source": [
        "DATASET_COLUMNS=['target','ids','date','flag','user','text']\n",
        "DATASET_ENCODING = \"ISO-8859-1\"\n",
        "\n",
        "df = pd.read_csv(\"/content/archive (4) - Copy.zip\", encoding=DATASET_ENCODING, names=DATASET_COLUMNS)"
      ]
    },
    {
      "cell_type": "markdown",
      "id": "ea24f15d-a283-4ac5-89df-7a61bb90cd0c",
      "metadata": {
        "id": "ea24f15d-a283-4ac5-89df-7a61bb90cd0c"
      },
      "source": [
        "#### Exploratory Data Analysis (EDA)"
      ]
    },
    {
      "cell_type": "code",
      "execution_count": null,
      "id": "a0aa392e-cc23-4d9b-8410-17f6f499268d",
      "metadata": {
        "colab": {
          "base_uri": "https://localhost:8080/",
          "height": 553
        },
        "id": "a0aa392e-cc23-4d9b-8410-17f6f499268d",
        "outputId": "61b7303c-a08b-43e6-d9d0-23898724f352"
      },
      "outputs": [
        {
          "output_type": "execute_result",
          "data": {
            "text/plain": [
              "   target         ids                          date      flag  \\\n",
              "0       0  1467810369  Mon Apr 06 22:19:45 PDT 2009  NO_QUERY   \n",
              "1       0  1467810672  Mon Apr 06 22:19:49 PDT 2009  NO_QUERY   \n",
              "2       0  1467810917  Mon Apr 06 22:19:53 PDT 2009  NO_QUERY   \n",
              "3       0  1467811184  Mon Apr 06 22:19:57 PDT 2009  NO_QUERY   \n",
              "4       0  1467811193  Mon Apr 06 22:19:57 PDT 2009  NO_QUERY   \n",
              "\n",
              "              user                                               text  \n",
              "0  _TheSpecialOne_  @switchfoot http://twitpic.com/2y1zl - Awww, t...  \n",
              "1    scotthamilton  is upset that he can't update his Facebook by ...  \n",
              "2         mattycus  @Kenichan I dived many times for the ball. Man...  \n",
              "3          ElleCTF    my whole body feels itchy and like its on fire   \n",
              "4           Karoli  @nationwideclass no, it's not behaving at all....  "
            ],
            "text/html": [
              "\n",
              "  <div id=\"df-1ea5b716-dd98-487c-8874-c3c73dcae445\" class=\"colab-df-container\">\n",
              "    <div>\n",
              "<style scoped>\n",
              "    .dataframe tbody tr th:only-of-type {\n",
              "        vertical-align: middle;\n",
              "    }\n",
              "\n",
              "    .dataframe tbody tr th {\n",
              "        vertical-align: top;\n",
              "    }\n",
              "\n",
              "    .dataframe thead th {\n",
              "        text-align: right;\n",
              "    }\n",
              "</style>\n",
              "<table border=\"1\" class=\"dataframe\">\n",
              "  <thead>\n",
              "    <tr style=\"text-align: right;\">\n",
              "      <th></th>\n",
              "      <th>target</th>\n",
              "      <th>ids</th>\n",
              "      <th>date</th>\n",
              "      <th>flag</th>\n",
              "      <th>user</th>\n",
              "      <th>text</th>\n",
              "    </tr>\n",
              "  </thead>\n",
              "  <tbody>\n",
              "    <tr>\n",
              "      <th>0</th>\n",
              "      <td>0</td>\n",
              "      <td>1467810369</td>\n",
              "      <td>Mon Apr 06 22:19:45 PDT 2009</td>\n",
              "      <td>NO_QUERY</td>\n",
              "      <td>_TheSpecialOne_</td>\n",
              "      <td>@switchfoot http://twitpic.com/2y1zl - Awww, t...</td>\n",
              "    </tr>\n",
              "    <tr>\n",
              "      <th>1</th>\n",
              "      <td>0</td>\n",
              "      <td>1467810672</td>\n",
              "      <td>Mon Apr 06 22:19:49 PDT 2009</td>\n",
              "      <td>NO_QUERY</td>\n",
              "      <td>scotthamilton</td>\n",
              "      <td>is upset that he can't update his Facebook by ...</td>\n",
              "    </tr>\n",
              "    <tr>\n",
              "      <th>2</th>\n",
              "      <td>0</td>\n",
              "      <td>1467810917</td>\n",
              "      <td>Mon Apr 06 22:19:53 PDT 2009</td>\n",
              "      <td>NO_QUERY</td>\n",
              "      <td>mattycus</td>\n",
              "      <td>@Kenichan I dived many times for the ball. Man...</td>\n",
              "    </tr>\n",
              "    <tr>\n",
              "      <th>3</th>\n",
              "      <td>0</td>\n",
              "      <td>1467811184</td>\n",
              "      <td>Mon Apr 06 22:19:57 PDT 2009</td>\n",
              "      <td>NO_QUERY</td>\n",
              "      <td>ElleCTF</td>\n",
              "      <td>my whole body feels itchy and like its on fire</td>\n",
              "    </tr>\n",
              "    <tr>\n",
              "      <th>4</th>\n",
              "      <td>0</td>\n",
              "      <td>1467811193</td>\n",
              "      <td>Mon Apr 06 22:19:57 PDT 2009</td>\n",
              "      <td>NO_QUERY</td>\n",
              "      <td>Karoli</td>\n",
              "      <td>@nationwideclass no, it's not behaving at all....</td>\n",
              "    </tr>\n",
              "  </tbody>\n",
              "</table>\n",
              "</div>\n",
              "    <div class=\"colab-df-buttons\">\n",
              "\n",
              "  <div class=\"colab-df-container\">\n",
              "    <button class=\"colab-df-convert\" onclick=\"convertToInteractive('df-1ea5b716-dd98-487c-8874-c3c73dcae445')\"\n",
              "            title=\"Convert this dataframe to an interactive table.\"\n",
              "            style=\"display:none;\">\n",
              "\n",
              "  <svg xmlns=\"http://www.w3.org/2000/svg\" height=\"24px\" viewBox=\"0 -960 960 960\">\n",
              "    <path d=\"M120-120v-720h720v720H120Zm60-500h600v-160H180v160Zm220 220h160v-160H400v160Zm0 220h160v-160H400v160ZM180-400h160v-160H180v160Zm440 0h160v-160H620v160ZM180-180h160v-160H180v160Zm440 0h160v-160H620v160Z\"/>\n",
              "  </svg>\n",
              "    </button>\n",
              "\n",
              "  <style>\n",
              "    .colab-df-container {\n",
              "      display:flex;\n",
              "      gap: 12px;\n",
              "    }\n",
              "\n",
              "    .colab-df-convert {\n",
              "      background-color: #E8F0FE;\n",
              "      border: none;\n",
              "      border-radius: 50%;\n",
              "      cursor: pointer;\n",
              "      display: none;\n",
              "      fill: #1967D2;\n",
              "      height: 32px;\n",
              "      padding: 0 0 0 0;\n",
              "      width: 32px;\n",
              "    }\n",
              "\n",
              "    .colab-df-convert:hover {\n",
              "      background-color: #E2EBFA;\n",
              "      box-shadow: 0px 1px 2px rgba(60, 64, 67, 0.3), 0px 1px 3px 1px rgba(60, 64, 67, 0.15);\n",
              "      fill: #174EA6;\n",
              "    }\n",
              "\n",
              "    .colab-df-buttons div {\n",
              "      margin-bottom: 4px;\n",
              "    }\n",
              "\n",
              "    [theme=dark] .colab-df-convert {\n",
              "      background-color: #3B4455;\n",
              "      fill: #D2E3FC;\n",
              "    }\n",
              "\n",
              "    [theme=dark] .colab-df-convert:hover {\n",
              "      background-color: #434B5C;\n",
              "      box-shadow: 0px 1px 3px 1px rgba(0, 0, 0, 0.15);\n",
              "      filter: drop-shadow(0px 1px 2px rgba(0, 0, 0, 0.3));\n",
              "      fill: #FFFFFF;\n",
              "    }\n",
              "  </style>\n",
              "\n",
              "    <script>\n",
              "      const buttonEl =\n",
              "        document.querySelector('#df-1ea5b716-dd98-487c-8874-c3c73dcae445 button.colab-df-convert');\n",
              "      buttonEl.style.display =\n",
              "        google.colab.kernel.accessAllowed ? 'block' : 'none';\n",
              "\n",
              "      async function convertToInteractive(key) {\n",
              "        const element = document.querySelector('#df-1ea5b716-dd98-487c-8874-c3c73dcae445');\n",
              "        const dataTable =\n",
              "          await google.colab.kernel.invokeFunction('convertToInteractive',\n",
              "                                                    [key], {});\n",
              "        if (!dataTable) return;\n",
              "\n",
              "        const docLinkHtml = 'Like what you see? Visit the ' +\n",
              "          '<a target=\"_blank\" href=https://colab.research.google.com/notebooks/data_table.ipynb>data table notebook</a>'\n",
              "          + ' to learn more about interactive tables.';\n",
              "        element.innerHTML = '';\n",
              "        dataTable['output_type'] = 'display_data';\n",
              "        await google.colab.output.renderOutput(dataTable, element);\n",
              "        const docLink = document.createElement('div');\n",
              "        docLink.innerHTML = docLinkHtml;\n",
              "        element.appendChild(docLink);\n",
              "      }\n",
              "    </script>\n",
              "  </div>\n",
              "\n",
              "\n",
              "<div id=\"df-bb976924-ce86-43e0-b4ae-f0437c69f032\">\n",
              "  <button class=\"colab-df-quickchart\" onclick=\"quickchart('df-bb976924-ce86-43e0-b4ae-f0437c69f032')\"\n",
              "            title=\"Suggest charts\"\n",
              "            style=\"display:none;\">\n",
              "\n",
              "<svg xmlns=\"http://www.w3.org/2000/svg\" height=\"24px\"viewBox=\"0 0 24 24\"\n",
              "     width=\"24px\">\n",
              "    <g>\n",
              "        <path d=\"M19 3H5c-1.1 0-2 .9-2 2v14c0 1.1.9 2 2 2h14c1.1 0 2-.9 2-2V5c0-1.1-.9-2-2-2zM9 17H7v-7h2v7zm4 0h-2V7h2v10zm4 0h-2v-4h2v4z\"/>\n",
              "    </g>\n",
              "</svg>\n",
              "  </button>\n",
              "\n",
              "<style>\n",
              "  .colab-df-quickchart {\n",
              "      --bg-color: #E8F0FE;\n",
              "      --fill-color: #1967D2;\n",
              "      --hover-bg-color: #E2EBFA;\n",
              "      --hover-fill-color: #174EA6;\n",
              "      --disabled-fill-color: #AAA;\n",
              "      --disabled-bg-color: #DDD;\n",
              "  }\n",
              "\n",
              "  [theme=dark] .colab-df-quickchart {\n",
              "      --bg-color: #3B4455;\n",
              "      --fill-color: #D2E3FC;\n",
              "      --hover-bg-color: #434B5C;\n",
              "      --hover-fill-color: #FFFFFF;\n",
              "      --disabled-bg-color: #3B4455;\n",
              "      --disabled-fill-color: #666;\n",
              "  }\n",
              "\n",
              "  .colab-df-quickchart {\n",
              "    background-color: var(--bg-color);\n",
              "    border: none;\n",
              "    border-radius: 50%;\n",
              "    cursor: pointer;\n",
              "    display: none;\n",
              "    fill: var(--fill-color);\n",
              "    height: 32px;\n",
              "    padding: 0;\n",
              "    width: 32px;\n",
              "  }\n",
              "\n",
              "  .colab-df-quickchart:hover {\n",
              "    background-color: var(--hover-bg-color);\n",
              "    box-shadow: 0 1px 2px rgba(60, 64, 67, 0.3), 0 1px 3px 1px rgba(60, 64, 67, 0.15);\n",
              "    fill: var(--button-hover-fill-color);\n",
              "  }\n",
              "\n",
              "  .colab-df-quickchart-complete:disabled,\n",
              "  .colab-df-quickchart-complete:disabled:hover {\n",
              "    background-color: var(--disabled-bg-color);\n",
              "    fill: var(--disabled-fill-color);\n",
              "    box-shadow: none;\n",
              "  }\n",
              "\n",
              "  .colab-df-spinner {\n",
              "    border: 2px solid var(--fill-color);\n",
              "    border-color: transparent;\n",
              "    border-bottom-color: var(--fill-color);\n",
              "    animation:\n",
              "      spin 1s steps(1) infinite;\n",
              "  }\n",
              "\n",
              "  @keyframes spin {\n",
              "    0% {\n",
              "      border-color: transparent;\n",
              "      border-bottom-color: var(--fill-color);\n",
              "      border-left-color: var(--fill-color);\n",
              "    }\n",
              "    20% {\n",
              "      border-color: transparent;\n",
              "      border-left-color: var(--fill-color);\n",
              "      border-top-color: var(--fill-color);\n",
              "    }\n",
              "    30% {\n",
              "      border-color: transparent;\n",
              "      border-left-color: var(--fill-color);\n",
              "      border-top-color: var(--fill-color);\n",
              "      border-right-color: var(--fill-color);\n",
              "    }\n",
              "    40% {\n",
              "      border-color: transparent;\n",
              "      border-right-color: var(--fill-color);\n",
              "      border-top-color: var(--fill-color);\n",
              "    }\n",
              "    60% {\n",
              "      border-color: transparent;\n",
              "      border-right-color: var(--fill-color);\n",
              "    }\n",
              "    80% {\n",
              "      border-color: transparent;\n",
              "      border-right-color: var(--fill-color);\n",
              "      border-bottom-color: var(--fill-color);\n",
              "    }\n",
              "    90% {\n",
              "      border-color: transparent;\n",
              "      border-bottom-color: var(--fill-color);\n",
              "    }\n",
              "  }\n",
              "</style>\n",
              "\n",
              "  <script>\n",
              "    async function quickchart(key) {\n",
              "      const quickchartButtonEl =\n",
              "        document.querySelector('#' + key + ' button');\n",
              "      quickchartButtonEl.disabled = true;  // To prevent multiple clicks.\n",
              "      quickchartButtonEl.classList.add('colab-df-spinner');\n",
              "      try {\n",
              "        const charts = await google.colab.kernel.invokeFunction(\n",
              "            'suggestCharts', [key], {});\n",
              "      } catch (error) {\n",
              "        console.error('Error during call to suggestCharts:', error);\n",
              "      }\n",
              "      quickchartButtonEl.classList.remove('colab-df-spinner');\n",
              "      quickchartButtonEl.classList.add('colab-df-quickchart-complete');\n",
              "    }\n",
              "    (() => {\n",
              "      let quickchartButtonEl =\n",
              "        document.querySelector('#df-bb976924-ce86-43e0-b4ae-f0437c69f032 button');\n",
              "      quickchartButtonEl.style.display =\n",
              "        google.colab.kernel.accessAllowed ? 'block' : 'none';\n",
              "    })();\n",
              "  </script>\n",
              "</div>\n",
              "\n",
              "    </div>\n",
              "  </div>\n"
            ],
            "application/vnd.google.colaboratory.intrinsic+json": {
              "type": "dataframe",
              "variable_name": "df"
            }
          },
          "metadata": {},
          "execution_count": 89
        }
      ],
      "source": [
        "df.head()"
      ]
    },
    {
      "cell_type": "code",
      "execution_count": null,
      "id": "c9cafa7f-261e-4389-8769-bc0e968ddc9f",
      "metadata": {
        "id": "c9cafa7f-261e-4389-8769-bc0e968ddc9f",
        "outputId": "d28ec773-0528-4a99-ee04-1bc8bcca73be",
        "colab": {
          "base_uri": "https://localhost:8080/"
        }
      },
      "outputs": [
        {
          "output_type": "execute_result",
          "data": {
            "text/plain": [
              "Index(['target', 'ids', 'date', 'flag', 'user', 'text'], dtype='object')"
            ]
          },
          "metadata": {},
          "execution_count": 7
        }
      ],
      "source": [
        "df.columns"
      ]
    },
    {
      "cell_type": "code",
      "execution_count": null,
      "id": "078af671-44ee-4878-86be-41ef1e612f7f",
      "metadata": {
        "id": "078af671-44ee-4878-86be-41ef1e612f7f",
        "outputId": "c50c18d6-0ce1-4b9e-ce13-cb273a2df2ce",
        "colab": {
          "base_uri": "https://localhost:8080/"
        }
      },
      "outputs": [
        {
          "output_type": "stream",
          "name": "stdout",
          "text": [
            "Length of dataset is 1600000\n"
          ]
        }
      ],
      "source": [
        "print(f\"Length of dataset is {len(df)}\")"
      ]
    },
    {
      "cell_type": "code",
      "execution_count": null,
      "id": "4a646d2c-9143-4357-acad-2c8195cb72b1",
      "metadata": {
        "id": "4a646d2c-9143-4357-acad-2c8195cb72b1",
        "outputId": "bf093dd0-c353-4ca6-82a8-f349ac3ef865",
        "colab": {
          "base_uri": "https://localhost:8080/"
        }
      },
      "outputs": [
        {
          "output_type": "execute_result",
          "data": {
            "text/plain": [
              "(1600000, 6)"
            ]
          },
          "metadata": {},
          "execution_count": 9
        }
      ],
      "source": [
        "df.shape"
      ]
    },
    {
      "cell_type": "code",
      "execution_count": null,
      "id": "b919b5a2-0974-42c6-a8c8-4198b0f1196b",
      "metadata": {
        "id": "b919b5a2-0974-42c6-a8c8-4198b0f1196b",
        "outputId": "c224ce39-94d8-46a6-d182-4e61a27a6b9a",
        "colab": {
          "base_uri": "https://localhost:8080/"
        }
      },
      "outputs": [
        {
          "output_type": "stream",
          "name": "stdout",
          "text": [
            "<class 'pandas.core.frame.DataFrame'>\n",
            "RangeIndex: 1600000 entries, 0 to 1599999\n",
            "Data columns (total 6 columns):\n",
            " #   Column  Non-Null Count    Dtype \n",
            "---  ------  --------------    ----- \n",
            " 0   target  1600000 non-null  int64 \n",
            " 1   ids     1600000 non-null  int64 \n",
            " 2   date    1600000 non-null  object\n",
            " 3   flag    1600000 non-null  object\n",
            " 4   user    1600000 non-null  object\n",
            " 5   text    1600000 non-null  object\n",
            "dtypes: int64(2), object(4)\n",
            "memory usage: 73.2+ MB\n"
          ]
        }
      ],
      "source": [
        "df.info()"
      ]
    },
    {
      "cell_type": "code",
      "execution_count": null,
      "id": "fd2359e5-fd37-4f57-a1a9-de0824a78892",
      "metadata": {
        "id": "fd2359e5-fd37-4f57-a1a9-de0824a78892",
        "outputId": "63b700cd-8176-48ab-ca32-f25cd627b11a",
        "colab": {
          "base_uri": "https://localhost:8080/",
          "height": 272
        }
      },
      "outputs": [
        {
          "output_type": "execute_result",
          "data": {
            "text/plain": [
              "target    0\n",
              "ids       0\n",
              "date      0\n",
              "flag      0\n",
              "user      0\n",
              "text      0\n",
              "dtype: int64"
            ],
            "text/html": [
              "<div>\n",
              "<style scoped>\n",
              "    .dataframe tbody tr th:only-of-type {\n",
              "        vertical-align: middle;\n",
              "    }\n",
              "\n",
              "    .dataframe tbody tr th {\n",
              "        vertical-align: top;\n",
              "    }\n",
              "\n",
              "    .dataframe thead th {\n",
              "        text-align: right;\n",
              "    }\n",
              "</style>\n",
              "<table border=\"1\" class=\"dataframe\">\n",
              "  <thead>\n",
              "    <tr style=\"text-align: right;\">\n",
              "      <th></th>\n",
              "      <th>0</th>\n",
              "    </tr>\n",
              "  </thead>\n",
              "  <tbody>\n",
              "    <tr>\n",
              "      <th>target</th>\n",
              "      <td>0</td>\n",
              "    </tr>\n",
              "    <tr>\n",
              "      <th>ids</th>\n",
              "      <td>0</td>\n",
              "    </tr>\n",
              "    <tr>\n",
              "      <th>date</th>\n",
              "      <td>0</td>\n",
              "    </tr>\n",
              "    <tr>\n",
              "      <th>flag</th>\n",
              "      <td>0</td>\n",
              "    </tr>\n",
              "    <tr>\n",
              "      <th>user</th>\n",
              "      <td>0</td>\n",
              "    </tr>\n",
              "    <tr>\n",
              "      <th>text</th>\n",
              "      <td>0</td>\n",
              "    </tr>\n",
              "  </tbody>\n",
              "</table>\n",
              "</div><br><label><b>dtype:</b> int64</label>"
            ]
          },
          "metadata": {},
          "execution_count": 11
        }
      ],
      "source": [
        "df.isna().sum()"
      ]
    },
    {
      "cell_type": "code",
      "execution_count": null,
      "id": "ad5d9d21-e864-4bcf-8458-80f659612851",
      "metadata": {
        "id": "ad5d9d21-e864-4bcf-8458-80f659612851",
        "outputId": "39decc54-4f9d-43d1-aad7-6883c08bc356",
        "colab": {
          "base_uri": "https://localhost:8080/"
        }
      },
      "outputs": [
        {
          "output_type": "execute_result",
          "data": {
            "text/plain": [
              "array([0, 4])"
            ]
          },
          "metadata": {},
          "execution_count": 12
        }
      ],
      "source": [
        "df['target'].unique()"
      ]
    },
    {
      "cell_type": "code",
      "execution_count": null,
      "id": "f283dff9-b9ea-4fcc-9f21-7cf175cbd77a",
      "metadata": {
        "id": "f283dff9-b9ea-4fcc-9f21-7cf175cbd77a",
        "outputId": "f6ad624a-3e8b-45c6-aed3-fdcf96c4aec9",
        "colab": {
          "base_uri": "https://localhost:8080/",
          "height": 489
        }
      },
      "outputs": [
        {
          "output_type": "execute_result",
          "data": {
            "text/plain": [
              "[Text(0, 0, 'Negative'), Text(1, 0, 'Positive')]"
            ]
          },
          "metadata": {},
          "execution_count": 13
        },
        {
          "output_type": "display_data",
          "data": {
            "text/plain": [
              "<Figure size 640x480 with 1 Axes>"
            ],
            "image/png": "[encoded data removed]"
          },
          "metadata": {}
        }
      ],
      "source": [
        "# Plotting the distribution for dataset.\n",
        "ax = df.groupby('target').count().plot(kind='bar', title='Distribution of data',legend=False)\n",
        "ax.set_xticklabels(['Negative','Positive'], rotation=0)"
      ]
    },
    {
      "cell_type": "code",
      "execution_count": null,
      "id": "3cd2e1b1-8cf0-43b3-8daf-8963b78a1daf",
      "metadata": {
        "id": "3cd2e1b1-8cf0-43b3-8daf-8963b78a1daf"
      },
      "outputs": [],
      "source": [
        "# Storing data in lists.\n",
        "text = list(df['text'])\n",
        "sentiment = list(df['target'])"
      ]
    },
    {
      "cell_type": "code",
      "execution_count": null,
      "id": "c41120da-8377-4a93-9ed5-94ab518818c7",
      "metadata": {
        "id": "c41120da-8377-4a93-9ed5-94ab518818c7",
        "outputId": "56e03f51-f201-4fb1-d26b-82eb123fdfec",
        "colab": {
          "base_uri": "https://localhost:8080/",
          "height": 449
        }
      },
      "outputs": [
        {
          "output_type": "display_data",
          "data": {
            "text/plain": [
              "<Figure size 640x480 with 1 Axes>"
            ],
            "image/png": "[encoded data removed]"
          },
          "metadata": {}
        }
      ],
      "source": [
        "sns.countplot(x='target', data=df);"
      ]
    },
    {
      "cell_type": "markdown",
      "id": "0721180a-1196-4d7b-a579-b8dbcf1ec707",
      "metadata": {
        "id": "0721180a-1196-4d7b-a579-b8dbcf1ec707"
      },
      "source": [
        "#### Data preprocessing"
      ]
    },
    {
      "cell_type": "code",
      "execution_count": null,
      "id": "e512ba53-df70-451f-bb6f-bb77ff192a09",
      "metadata": {
        "id": "e512ba53-df70-451f-bb6f-bb77ff192a09"
      },
      "outputs": [],
      "source": [
        "data=df[['text','target']]"
      ]
    },
    {
      "cell_type": "code",
      "execution_count": null,
      "id": "4ecc681f-bfc0-4718-a804-84b3979c536f",
      "metadata": {
        "id": "4ecc681f-bfc0-4718-a804-84b3979c536f",
        "outputId": "e5fe82a1-001d-4fc6-cc8a-7d7833791313",
        "colab": {
          "base_uri": "https://localhost:8080/",
          "height": 206
        }
      },
      "outputs": [
        {
          "output_type": "execute_result",
          "data": {
            "text/plain": [
              "                                                      text  target\n",
              "1599995  Just woke up. Having no school is the best fee...       4\n",
              "1599996  TheWDB.com - Very cool to hear old Walt interv...       4\n",
              "1599997  Are you ready for your MoJo Makeover? Ask me f...       4\n",
              "1599998  Happy 38th Birthday to my boo of alll time!!! ...       4\n",
              "1599999  happy #charitytuesday @theNSPCC @SparksCharity...       4"
            ],
            "text/html": [
              "\n",
              "  <div id=\"df-70fd726a-8ef6-4b91-bf06-93b6c1961435\" class=\"colab-df-container\">\n",
              "    <div>\n",
              "<style scoped>\n",
              "    .dataframe tbody tr th:only-of-type {\n",
              "        vertical-align: middle;\n",
              "    }\n",
              "\n",
              "    .dataframe tbody tr th {\n",
              "        vertical-align: top;\n",
              "    }\n",
              "\n",
              "    .dataframe thead th {\n",
              "        text-align: right;\n",
              "    }\n",
              "</style>\n",
              "<table border=\"1\" class=\"dataframe\">\n",
              "  <thead>\n",
              "    <tr style=\"text-align: right;\">\n",
              "      <th></th>\n",
              "      <th>text</th>\n",
              "      <th>target</th>\n",
              "    </tr>\n",
              "  </thead>\n",
              "  <tbody>\n",
              "    <tr>\n",
              "      <th>1599995</th>\n",
              "      <td>Just woke up. Having no school is the best fee...</td>\n",
              "      <td>4</td>\n",
              "    </tr>\n",
              "    <tr>\n",
              "      <th>1599996</th>\n",
              "      <td>TheWDB.com - Very cool to hear old Walt interv...</td>\n",
              "      <td>4</td>\n",
              "    </tr>\n",
              "    <tr>\n",
              "      <th>1599997</th>\n",
              "      <td>Are you ready for your MoJo Makeover? Ask me f...</td>\n",
              "      <td>4</td>\n",
              "    </tr>\n",
              "    <tr>\n",
              "      <th>1599998</th>\n",
              "      <td>Happy 38th Birthday to my boo of alll time!!! ...</td>\n",
              "      <td>4</td>\n",
              "    </tr>\n",
              "    <tr>\n",
              "      <th>1599999</th>\n",
              "      <td>happy #charitytuesday @theNSPCC @SparksCharity...</td>\n",
              "      <td>4</td>\n",
              "    </tr>\n",
              "  </tbody>\n",
              "</table>\n",
              "</div>\n",
              "    <div class=\"colab-df-buttons\">\n",
              "\n",
              "  <div class=\"colab-df-container\">\n",
              "    <button class=\"colab-df-convert\" onclick=\"convertToInteractive('df-70fd726a-8ef6-4b91-bf06-93b6c1961435')\"\n",
              "            title=\"Convert this dataframe to an interactive table.\"\n",
              "            style=\"display:none;\">\n",
              "\n",
              "  <svg xmlns=\"http://www.w3.org/2000/svg\" height=\"24px\" viewBox=\"0 -960 960 960\">\n",
              "    <path d=\"M120-120v-720h720v720H120Zm60-500h600v-160H180v160Zm220 220h160v-160H400v160Zm0 220h160v-160H400v160ZM180-400h160v-160H180v160Zm440 0h160v-160H620v160ZM180-180h160v-160H180v160Zm440 0h160v-160H620v160Z\"/>\n",
              "  </svg>\n",
              "    </button>\n",
              "\n",
              "  <style>\n",
              "    .colab-df-container {\n",
              "      display:flex;\n",
              "      gap: 12px;\n",
              "    }\n",
              "\n",
              "    .colab-df-convert {\n",
              "      background-color: #E8F0FE;\n",
              "      border: none;\n",
              "      border-radius: 50%;\n",
              "      cursor: pointer;\n",
              "      display: none;\n",
              "      fill: #1967D2;\n",
              "      height: 32px;\n",
              "      padding: 0 0 0 0;\n",
              "      width: 32px;\n",
              "    }\n",
              "\n",
              "    .colab-df-convert:hover {\n",
              "      background-color: #E2EBFA;\n",
              "      box-shadow: 0px 1px 2px rgba(60, 64, 67, 0.3), 0px 1px 3px 1px rgba(60, 64, 67, 0.15);\n",
              "      fill: #174EA6;\n",
              "    }\n",
              "\n",
              "    .colab-df-buttons div {\n",
              "      margin-bottom: 4px;\n",
              "    }\n",
              "\n",
              "    [theme=dark] .colab-df-convert {\n",
              "      background-color: #3B4455;\n",
              "      fill: #D2E3FC;\n",
              "    }\n",
              "\n",
              "    [theme=dark] .colab-df-convert:hover {\n",
              "      background-color: #434B5C;\n",
              "      box-shadow: 0px 1px 3px 1px rgba(0, 0, 0, 0.15);\n",
              "      filter: drop-shadow(0px 1px 2px rgba(0, 0, 0, 0.3));\n",
              "      fill: #FFFFFF;\n",
              "    }\n",
              "  </style>\n",
              "\n",
              "    <script>\n",
              "      const buttonEl =\n",
              "        document.querySelector('#df-70fd726a-8ef6-4b91-bf06-93b6c1961435 button.colab-df-convert');\n",
              "      buttonEl.style.display =\n",
              "        google.colab.kernel.accessAllowed ? 'block' : 'none';\n",
              "\n",
              "      async function convertToInteractive(key) {\n",
              "        const element = document.querySelector('#df-70fd726a-8ef6-4b91-bf06-93b6c1961435');\n",
              "        const dataTable =\n",
              "          await google.colab.kernel.invokeFunction('convertToInteractive',\n",
              "                                                    [key], {});\n",
              "        if (!dataTable) return;\n",
              "\n",
              "        const docLinkHtml = 'Like what you see? Visit the ' +\n",
              "          '<a target=\"_blank\" href=https://colab.research.google.com/notebooks/data_table.ipynb>data table notebook</a>'\n",
              "          + ' to learn more about interactive tables.';\n",
              "        element.innerHTML = '';\n",
              "        dataTable['output_type'] = 'display_data';\n",
              "        await google.colab.output.renderOutput(dataTable, element);\n",
              "        const docLink = document.createElement('div');\n",
              "        docLink.innerHTML = docLinkHtml;\n",
              "        element.appendChild(docLink);\n",
              "      }\n",
              "    </script>\n",
              "  </div>\n",
              "\n",
              "\n",
              "<div id=\"df-84c89443-ac87-402f-8586-19808ac84bce\">\n",
              "  <button class=\"colab-df-quickchart\" onclick=\"quickchart('df-84c89443-ac87-402f-8586-19808ac84bce')\"\n",
              "            title=\"Suggest charts\"\n",
              "            style=\"display:none;\">\n",
              "\n",
              "<svg xmlns=\"http://www.w3.org/2000/svg\" height=\"24px\"viewBox=\"0 0 24 24\"\n",
              "     width=\"24px\">\n",
              "    <g>\n",
              "        <path d=\"M19 3H5c-1.1 0-2 .9-2 2v14c0 1.1.9 2 2 2h14c1.1 0 2-.9 2-2V5c0-1.1-.9-2-2-2zM9 17H7v-7h2v7zm4 0h-2V7h2v10zm4 0h-2v-4h2v4z\"/>\n",
              "    </g>\n",
              "</svg>\n",
              "  </button>\n",
              "\n",
              "<style>\n",
              "  .colab-df-quickchart {\n",
              "      --bg-color: #E8F0FE;\n",
              "      --fill-color: #1967D2;\n",
              "      --hover-bg-color: #E2EBFA;\n",
              "      --hover-fill-color: #174EA6;\n",
              "      --disabled-fill-color: #AAA;\n",
              "      --disabled-bg-color: #DDD;\n",
              "  }\n",
              "\n",
              "  [theme=dark] .colab-df-quickchart {\n",
              "      --bg-color: #3B4455;\n",
              "      --fill-color: #D2E3FC;\n",
              "      --hover-bg-color: #434B5C;\n",
              "      --hover-fill-color: #FFFFFF;\n",
              "      --disabled-bg-color: #3B4455;\n",
              "      --disabled-fill-color: #666;\n",
              "  }\n",
              "\n",
              "  .colab-df-quickchart {\n",
              "    background-color: var(--bg-color);\n",
              "    border: none;\n",
              "    border-radius: 50%;\n",
              "    cursor: pointer;\n",
              "    display: none;\n",
              "    fill: var(--fill-color);\n",
              "    height: 32px;\n",
              "    padding: 0;\n",
              "    width: 32px;\n",
              "  }\n",
              "\n",
              "  .colab-df-quickchart:hover {\n",
              "    background-color: var(--hover-bg-color);\n",
              "    box-shadow: 0 1px 2px rgba(60, 64, 67, 0.3), 0 1px 3px 1px rgba(60, 64, 67, 0.15);\n",
              "    fill: var(--button-hover-fill-color);\n",
              "  }\n",
              "\n",
              "  .colab-df-quickchart-complete:disabled,\n",
              "  .colab-df-quickchart-complete:disabled:hover {\n",
              "    background-color: var(--disabled-bg-color);\n",
              "    fill: var(--disabled-fill-color);\n",
              "    box-shadow: none;\n",
              "  }\n",
              "\n",
              "  .colab-df-spinner {\n",
              "    border: 2px solid var(--fill-color);\n",
              "    border-color: transparent;\n",
              "    border-bottom-color: var(--fill-color);\n",
              "    animation:\n",
              "      spin 1s steps(1) infinite;\n",
              "  }\n",
              "\n",
              "  @keyframes spin {\n",
              "    0% {\n",
              "      border-color: transparent;\n",
              "      border-bottom-color: var(--fill-color);\n",
              "      border-left-color: var(--fill-color);\n",
              "    }\n",
              "    20% {\n",
              "      border-color: transparent;\n",
              "      border-left-color: var(--fill-color);\n",
              "      border-top-color: var(--fill-color);\n",
              "    }\n",
              "    30% {\n",
              "      border-color: transparent;\n",
              "      border-left-color: var(--fill-color);\n",
              "      border-top-color: var(--fill-color);\n",
              "      border-right-color: var(--fill-color);\n",
              "    }\n",
              "    40% {\n",
              "      border-color: transparent;\n",
              "      border-right-color: var(--fill-color);\n",
              "      border-top-color: var(--fill-color);\n",
              "    }\n",
              "    60% {\n",
              "      border-color: transparent;\n",
              "      border-right-color: var(--fill-color);\n",
              "    }\n",
              "    80% {\n",
              "      border-color: transparent;\n",
              "      border-right-color: var(--fill-color);\n",
              "      border-bottom-color: var(--fill-color);\n",
              "    }\n",
              "    90% {\n",
              "      border-color: transparent;\n",
              "      border-bottom-color: var(--fill-color);\n",
              "    }\n",
              "  }\n",
              "</style>\n",
              "\n",
              "  <script>\n",
              "    async function quickchart(key) {\n",
              "      const quickchartButtonEl =\n",
              "        document.querySelector('#' + key + ' button');\n",
              "      quickchartButtonEl.disabled = true;  // To prevent multiple clicks.\n",
              "      quickchartButtonEl.classList.add('colab-df-spinner');\n",
              "      try {\n",
              "        const charts = await google.colab.kernel.invokeFunction(\n",
              "            'suggestCharts', [key], {});\n",
              "      } catch (error) {\n",
              "        console.error('Error during call to suggestCharts:', error);\n",
              "      }\n",
              "      quickchartButtonEl.classList.remove('colab-df-spinner');\n",
              "      quickchartButtonEl.classList.add('colab-df-quickchart-complete');\n",
              "    }\n",
              "    (() => {\n",
              "      let quickchartButtonEl =\n",
              "        document.querySelector('#df-84c89443-ac87-402f-8586-19808ac84bce button');\n",
              "      quickchartButtonEl.style.display =\n",
              "        google.colab.kernel.accessAllowed ? 'block' : 'none';\n",
              "    })();\n",
              "  </script>\n",
              "</div>\n",
              "\n",
              "    </div>\n",
              "  </div>\n"
            ],
            "application/vnd.google.colaboratory.intrinsic+json": {
              "type": "dataframe",
              "summary": "{\n  \"name\": \"data\",\n  \"rows\": 5,\n  \"fields\": [\n    {\n      \"column\": \"text\",\n      \"properties\": {\n        \"dtype\": \"string\",\n        \"num_unique_values\": 5,\n        \"samples\": [\n          \"TheWDB.com - Very cool to hear old Walt interviews!  \\u00e2\\u0099\\u00ab http://blip.fm/~8bmta\",\n          \"happy #charitytuesday @theNSPCC @SparksCharity @SpeakingUpH4H \",\n          \"Are you ready for your MoJo Makeover? Ask me for details \"\n        ],\n        \"semantic_type\": \"\",\n        \"description\": \"\"\n      }\n    },\n    {\n      \"column\": \"target\",\n      \"properties\": {\n        \"dtype\": \"number\",\n        \"std\": 0,\n        \"min\": 4,\n        \"max\": 4,\n        \"num_unique_values\": 1,\n        \"samples\": [\n          4\n        ],\n        \"semantic_type\": \"\",\n        \"description\": \"\"\n      }\n    }\n  ]\n}"
            }
          },
          "metadata": {},
          "execution_count": 17
        }
      ],
      "source": [
        "data.tail(5)"
      ]
    },
    {
      "cell_type": "code",
      "execution_count": null,
      "id": "acf3ca7d-ed53-4bf2-af33-e5e0b0b8e6e9",
      "metadata": {
        "id": "acf3ca7d-ed53-4bf2-af33-e5e0b0b8e6e9",
        "outputId": "4bdbed90-a678-45cb-938c-dc3e6f77724a",
        "colab": {
          "base_uri": "https://localhost:8080/"
        }
      },
      "outputs": [
        {
          "output_type": "stream",
          "name": "stderr",
          "text": [
            "<ipython-input-18-3a16057e415e>:2: SettingWithCopyWarning: \n",
            "A value is trying to be set on a copy of a slice from a DataFrame.\n",
            "Try using .loc[row_indexer,col_indexer] = value instead\n",
            "\n",
            "See the caveats in the documentation: https://pandas.pydata.org/pandas-docs/stable/user_guide/indexing.html#returning-a-view-versus-a-copy\n",
            "  data['target'] = data['target'].replace(4,1)\n"
          ]
        }
      ],
      "source": [
        "# Replacing the values to ease understanding. (Assigning 1 to Positive sentiment 4)\n",
        "data['target'] = data['target'].replace(4,1)"
      ]
    },
    {
      "cell_type": "code",
      "execution_count": null,
      "id": "0d1f1b2a-c37c-4fee-b342-1599a0ac9d40",
      "metadata": {
        "id": "0d1f1b2a-c37c-4fee-b342-1599a0ac9d40",
        "outputId": "54d8ebff-45c8-4241-838e-4c7b7e37121a",
        "colab": {
          "base_uri": "https://localhost:8080/"
        }
      },
      "outputs": [
        {
          "output_type": "execute_result",
          "data": {
            "text/plain": [
              "array([0, 1])"
            ]
          },
          "metadata": {},
          "execution_count": 19
        }
      ],
      "source": [
        "data['target'].unique()"
      ]
    },
    {
      "cell_type": "code",
      "execution_count": null,
      "id": "da09ba33-0b91-4765-b950-ed36b1cbb9dc",
      "metadata": {
        "id": "da09ba33-0b91-4765-b950-ed36b1cbb9dc"
      },
      "outputs": [],
      "source": [
        "pos_data = data[data['target'] == 1]\n",
        "neg_data = data[data['target'] == 0]"
      ]
    },
    {
      "cell_type": "code",
      "execution_count": null,
      "id": "311deedb-eec0-41b4-ba65-7fd04c208006",
      "metadata": {
        "id": "311deedb-eec0-41b4-ba65-7fd04c208006"
      },
      "outputs": [],
      "source": [
        "# Using 1/4th data\n",
        "pos_data = pos_data.iloc[:int(20000)]\n",
        "neg_data = neg_data.iloc[:int(20000)]"
      ]
    },
    {
      "cell_type": "code",
      "execution_count": null,
      "id": "64d80cef-a135-4e6e-b07e-b5a15cdc39ab",
      "metadata": {
        "id": "64d80cef-a135-4e6e-b07e-b5a15cdc39ab"
      },
      "outputs": [],
      "source": [
        "dataset = pd.concat([pos_data, neg_data])"
      ]
    },
    {
      "cell_type": "code",
      "execution_count": null,
      "id": "10fed118-2e47-4ce4-af99-d9bd42c4ad53",
      "metadata": {
        "id": "10fed118-2e47-4ce4-af99-d9bd42c4ad53",
        "outputId": "e54626e5-83d3-4229-f258-4435a2b0ba79",
        "colab": {
          "base_uri": "https://localhost:8080/",
          "height": 241
        }
      },
      "outputs": [
        {
          "output_type": "execute_result",
          "data": {
            "text/plain": [
              "19995    not much time off this weekend, work trip to m...\n",
              "19996                            one more day of holidays \n",
              "19997    feeling so down right now .. i hate you damn h...\n",
              "19998    geez,i hv to read the whole book of personalit...\n",
              "19999    i threw my sign at donnie and he bent over to ...\n",
              "Name: text, dtype: object"
            ],
            "text/html": [
              "<div>\n",
              "<style scoped>\n",
              "    .dataframe tbody tr th:only-of-type {\n",
              "        vertical-align: middle;\n",
              "    }\n",
              "\n",
              "    .dataframe tbody tr th {\n",
              "        vertical-align: top;\n",
              "    }\n",
              "\n",
              "    .dataframe thead th {\n",
              "        text-align: right;\n",
              "    }\n",
              "</style>\n",
              "<table border=\"1\" class=\"dataframe\">\n",
              "  <thead>\n",
              "    <tr style=\"text-align: right;\">\n",
              "      <th></th>\n",
              "      <th>text</th>\n",
              "    </tr>\n",
              "  </thead>\n",
              "  <tbody>\n",
              "    <tr>\n",
              "      <th>19995</th>\n",
              "      <td>not much time off this weekend, work trip to m...</td>\n",
              "    </tr>\n",
              "    <tr>\n",
              "      <th>19996</th>\n",
              "      <td>one more day of holidays</td>\n",
              "    </tr>\n",
              "    <tr>\n",
              "      <th>19997</th>\n",
              "      <td>feeling so down right now .. i hate you damn h...</td>\n",
              "    </tr>\n",
              "    <tr>\n",
              "      <th>19998</th>\n",
              "      <td>geez,i hv to read the whole book of personalit...</td>\n",
              "    </tr>\n",
              "    <tr>\n",
              "      <th>19999</th>\n",
              "      <td>i threw my sign at donnie and he bent over to ...</td>\n",
              "    </tr>\n",
              "  </tbody>\n",
              "</table>\n",
              "</div><br><label><b>dtype:</b> object</label>"
            ]
          },
          "metadata": {},
          "execution_count": 23
        }
      ],
      "source": [
        "# Making text to lower case\n",
        "dataset['text']=dataset['text'].str.lower()\n",
        "dataset['text'].tail()"
      ]
    },
    {
      "cell_type": "code",
      "execution_count": null,
      "id": "d3a5aac1-16d4-4aa3-82d2-af84e80d95ac",
      "metadata": {
        "id": "d3a5aac1-16d4-4aa3-82d2-af84e80d95ac"
      },
      "outputs": [],
      "source": [
        "# Defining set containing all stopwords in English.\n",
        "stopwordlist = ['a', 'about', 'above', 'after', 'again', 'ain', 'all', 'am', 'an',\n",
        "             'and','any','are', 'as', 'at', 'be', 'because', 'been', 'before',\n",
        "             'being', 'below', 'between','both', 'by', 'can', 'd', 'did', 'do',\n",
        "             'does', 'doing', 'down', 'during', 'each','few', 'for', 'from',\n",
        "             'further', 'had', 'has', 'have', 'having', 'he', 'her', 'here',\n",
        "             'hers', 'herself', 'him', 'himself', 'his', 'how', 'i', 'if', 'in',\n",
        "             'into','is', 'it', 'its', 'itself', 'just', 'll', 'm', 'ma',\n",
        "             'me', 'more', 'most','my', 'myself', 'now', 'o', 'of', 'on', 'once',\n",
        "             'only', 'or', 'other', 'our', 'ours','ourselves', 'out', 'own', 're','s',\n",
        "             'same', 'she', \"shes\", 'should', \"shouldve\",'so', 'some', 'such',\n",
        "             't', 'than', 'that', \"thatll\", 'the', 'their', 'theirs', 'them',\n",
        "             'themselves', 'then', 'there', 'these', 'they', 'this', 'those',\n",
        "             'through', 'to', 'too','under', 'until', 'up', 've', 'very', 'was',\n",
        "             'we', 'were', 'what', 'when', 'where','which','while', 'who', 'whom',\n",
        "             'why', 'will', 'with', 'won', 'y', 'you', \"youd\",\"youll\", \"youre\",\n",
        "             \"youve\", 'your', 'yours', 'yourself', 'yourselves']"
      ]
    },
    {
      "cell_type": "code",
      "execution_count": null,
      "id": "cbe648f5-bfdd-4650-9873-fc6a92650370",
      "metadata": {
        "id": "cbe648f5-bfdd-4650-9873-fc6a92650370",
        "outputId": "9f4c62b9-f00d-4125-d016-8f6cf8e6e89b",
        "colab": {
          "base_uri": "https://localhost:8080/",
          "height": 241
        }
      },
      "outputs": [
        {
          "output_type": "execute_result",
          "data": {
            "text/plain": [
              "800000                love @health4uandpets u guys r best!!\n",
              "800001    im meeting one besties tonight! cant wait!! - ...\n",
              "800002    @darealsunisakim thanks twitter add, sunisa! g...\n",
              "800003    sick really cheap hurts much eat real food plu...\n",
              "800004                      @lovesbrooklyn2 effect everyone\n",
              "Name: text, dtype: object"
            ],
            "text/html": [
              "<div>\n",
              "<style scoped>\n",
              "    .dataframe tbody tr th:only-of-type {\n",
              "        vertical-align: middle;\n",
              "    }\n",
              "\n",
              "    .dataframe tbody tr th {\n",
              "        vertical-align: top;\n",
              "    }\n",
              "\n",
              "    .dataframe thead th {\n",
              "        text-align: right;\n",
              "    }\n",
              "</style>\n",
              "<table border=\"1\" class=\"dataframe\">\n",
              "  <thead>\n",
              "    <tr style=\"text-align: right;\">\n",
              "      <th></th>\n",
              "      <th>text</th>\n",
              "    </tr>\n",
              "  </thead>\n",
              "  <tbody>\n",
              "    <tr>\n",
              "      <th>800000</th>\n",
              "      <td>love @health4uandpets u guys r best!!</td>\n",
              "    </tr>\n",
              "    <tr>\n",
              "      <th>800001</th>\n",
              "      <td>im meeting one besties tonight! cant wait!! - ...</td>\n",
              "    </tr>\n",
              "    <tr>\n",
              "      <th>800002</th>\n",
              "      <td>@darealsunisakim thanks twitter add, sunisa! g...</td>\n",
              "    </tr>\n",
              "    <tr>\n",
              "      <th>800003</th>\n",
              "      <td>sick really cheap hurts much eat real food plu...</td>\n",
              "    </tr>\n",
              "    <tr>\n",
              "      <th>800004</th>\n",
              "      <td>@lovesbrooklyn2 effect everyone</td>\n",
              "    </tr>\n",
              "  </tbody>\n",
              "</table>\n",
              "</div><br><label><b>dtype:</b> object</label>"
            ]
          },
          "metadata": {},
          "execution_count": 25
        }
      ],
      "source": [
        "# Cleaning and removing the above stop words list from the tweets\n",
        "STOPWORDS = set(stopwordlist)\n",
        "def cleaning_stopwords(text):\n",
        "    return \" \".join([word for word in str(text).split() if word not in STOPWORDS])\n",
        "dataset['text'] = dataset['text'].apply(lambda text: cleaning_stopwords(text))\n",
        "dataset['text'].head()"
      ]
    },
    {
      "cell_type": "code",
      "execution_count": null,
      "id": "ec0d9ba4-b545-4fa6-a602-5386b9a688ba",
      "metadata": {
        "id": "ec0d9ba4-b545-4fa6-a602-5386b9a688ba",
        "outputId": "8e029be1-50e5-4ae2-defa-9b00d35accf7",
        "colab": {
          "base_uri": "https://localhost:8080/",
          "height": 241
        }
      },
      "outputs": [
        {
          "output_type": "execute_result",
          "data": {
            "text/plain": [
              "19995    not much time off weekend work trip malmï¿½ fr...\n",
              "19996                                     one day holidays\n",
              "19997                     feeling right  hate damn humprey\n",
              "19998    geezi hv read whole book personality types emb...\n",
              "19999    threw sign donnie bent over get but thingee ma...\n",
              "Name: text, dtype: object"
            ],
            "text/html": [
              "<div>\n",
              "<style scoped>\n",
              "    .dataframe tbody tr th:only-of-type {\n",
              "        vertical-align: middle;\n",
              "    }\n",
              "\n",
              "    .dataframe tbody tr th {\n",
              "        vertical-align: top;\n",
              "    }\n",
              "\n",
              "    .dataframe thead th {\n",
              "        text-align: right;\n",
              "    }\n",
              "</style>\n",
              "<table border=\"1\" class=\"dataframe\">\n",
              "  <thead>\n",
              "    <tr style=\"text-align: right;\">\n",
              "      <th></th>\n",
              "      <th>text</th>\n",
              "    </tr>\n",
              "  </thead>\n",
              "  <tbody>\n",
              "    <tr>\n",
              "      <th>19995</th>\n",
              "      <td>not much time off weekend work trip malmï¿½ fr...</td>\n",
              "    </tr>\n",
              "    <tr>\n",
              "      <th>19996</th>\n",
              "      <td>one day holidays</td>\n",
              "    </tr>\n",
              "    <tr>\n",
              "      <th>19997</th>\n",
              "      <td>feeling right  hate damn humprey</td>\n",
              "    </tr>\n",
              "    <tr>\n",
              "      <th>19998</th>\n",
              "      <td>geezi hv read whole book personality types emb...</td>\n",
              "    </tr>\n",
              "    <tr>\n",
              "      <th>19999</th>\n",
              "      <td>threw sign donnie bent over get but thingee ma...</td>\n",
              "    </tr>\n",
              "  </tbody>\n",
              "</table>\n",
              "</div><br><label><b>dtype:</b> object</label>"
            ]
          },
          "metadata": {},
          "execution_count": 26
        }
      ],
      "source": [
        "# Cleaning and removing punctuations\n",
        "import string\n",
        "english_punctuations = string.punctuation\n",
        "punctuations_list = english_punctuations\n",
        "def cleaning_punctuations(text):\n",
        "    translator = str.maketrans('', '', punctuations_list)\n",
        "    return text.translate(translator)\n",
        "dataset['text']= dataset['text'].apply(lambda x: cleaning_punctuations(x))\n",
        "dataset['text'].tail()"
      ]
    },
    {
      "cell_type": "code",
      "execution_count": null,
      "id": "abeccf09-bf22-4a92-95be-2973cc8ef17a",
      "metadata": {
        "id": "abeccf09-bf22-4a92-95be-2973cc8ef17a",
        "outputId": "42691457-ae63-400a-ef68-ca8437fe8c47",
        "colab": {
          "base_uri": "https://localhost:8080/",
          "height": 241
        }
      },
      "outputs": [
        {
          "output_type": "execute_result",
          "data": {
            "text/plain": [
              "19995    not much time off weekend work trip malmï¿½ fr...\n",
              "19996                                     one day holidays\n",
              "19997                     feeling right  hate damn humprey\n",
              "19998    geezi hv read whole book personality types emb...\n",
              "19999    threw sign donnie bent over get but thingee ma...\n",
              "Name: text, dtype: object"
            ],
            "text/html": [
              "<div>\n",
              "<style scoped>\n",
              "    .dataframe tbody tr th:only-of-type {\n",
              "        vertical-align: middle;\n",
              "    }\n",
              "\n",
              "    .dataframe tbody tr th {\n",
              "        vertical-align: top;\n",
              "    }\n",
              "\n",
              "    .dataframe thead th {\n",
              "        text-align: right;\n",
              "    }\n",
              "</style>\n",
              "<table border=\"1\" class=\"dataframe\">\n",
              "  <thead>\n",
              "    <tr style=\"text-align: right;\">\n",
              "      <th></th>\n",
              "      <th>text</th>\n",
              "    </tr>\n",
              "  </thead>\n",
              "  <tbody>\n",
              "    <tr>\n",
              "      <th>19995</th>\n",
              "      <td>not much time off weekend work trip malmï¿½ fr...</td>\n",
              "    </tr>\n",
              "    <tr>\n",
              "      <th>19996</th>\n",
              "      <td>one day holidays</td>\n",
              "    </tr>\n",
              "    <tr>\n",
              "      <th>19997</th>\n",
              "      <td>feeling right  hate damn humprey</td>\n",
              "    </tr>\n",
              "    <tr>\n",
              "      <th>19998</th>\n",
              "      <td>geezi hv read whole book personality types emb...</td>\n",
              "    </tr>\n",
              "    <tr>\n",
              "      <th>19999</th>\n",
              "      <td>threw sign donnie bent over get but thingee ma...</td>\n",
              "    </tr>\n",
              "  </tbody>\n",
              "</table>\n",
              "</div><br><label><b>dtype:</b> object</label>"
            ]
          },
          "metadata": {},
          "execution_count": 27
        }
      ],
      "source": [
        "# Cleaning and removing repeating character\n",
        "def cleaning_repeating_char(text):\n",
        "    return re.sub(r'(.)1+', r'1', text)\n",
        "dataset['text'] = dataset['text'].apply(lambda x: cleaning_repeating_char(x))\n",
        "dataset['text'].tail()"
      ]
    },
    {
      "cell_type": "code",
      "execution_count": null,
      "id": "00d55cc3-1b5d-42c6-94fc-38649c90454d",
      "metadata": {
        "id": "00d55cc3-1b5d-42c6-94fc-38649c90454d",
        "outputId": "271997f2-8aef-46d7-f08c-1d4f91a371ac",
        "colab": {
          "base_uri": "https://localhost:8080/",
          "height": 241
        }
      },
      "outputs": [
        {
          "output_type": "execute_result",
          "data": {
            "text/plain": [
              "19995    not much time off weekend work trip malmï¿½ fr...\n",
              "19996                                     one day holidays\n",
              "19997                     feeling right  hate damn humprey\n",
              "19998    geezi hv read whole book personality types emb...\n",
              "19999    threw sign donnie bent over get but thingee ma...\n",
              "Name: text, dtype: object"
            ],
            "text/html": [
              "<div>\n",
              "<style scoped>\n",
              "    .dataframe tbody tr th:only-of-type {\n",
              "        vertical-align: middle;\n",
              "    }\n",
              "\n",
              "    .dataframe tbody tr th {\n",
              "        vertical-align: top;\n",
              "    }\n",
              "\n",
              "    .dataframe thead th {\n",
              "        text-align: right;\n",
              "    }\n",
              "</style>\n",
              "<table border=\"1\" class=\"dataframe\">\n",
              "  <thead>\n",
              "    <tr style=\"text-align: right;\">\n",
              "      <th></th>\n",
              "      <th>text</th>\n",
              "    </tr>\n",
              "  </thead>\n",
              "  <tbody>\n",
              "    <tr>\n",
              "      <th>19995</th>\n",
              "      <td>not much time off weekend work trip malmï¿½ fr...</td>\n",
              "    </tr>\n",
              "    <tr>\n",
              "      <th>19996</th>\n",
              "      <td>one day holidays</td>\n",
              "    </tr>\n",
              "    <tr>\n",
              "      <th>19997</th>\n",
              "      <td>feeling right  hate damn humprey</td>\n",
              "    </tr>\n",
              "    <tr>\n",
              "      <th>19998</th>\n",
              "      <td>geezi hv read whole book personality types emb...</td>\n",
              "    </tr>\n",
              "    <tr>\n",
              "      <th>19999</th>\n",
              "      <td>threw sign donnie bent over get but thingee ma...</td>\n",
              "    </tr>\n",
              "  </tbody>\n",
              "</table>\n",
              "</div><br><label><b>dtype:</b> object</label>"
            ]
          },
          "metadata": {},
          "execution_count": 28
        }
      ],
      "source": [
        "# Cleaning and removing URLs\n",
        "def cleaning_URLs(data):\n",
        "    return re.sub('((www.[^s]+)|(https?://[^s]+))',' ',data)\n",
        "dataset['text'] = dataset['text'].apply(lambda x: cleaning_URLs(x))\n",
        "dataset['text'].tail()"
      ]
    },
    {
      "cell_type": "code",
      "execution_count": null,
      "id": "f6cc53f3-9d5d-43e1-991b-473d0feec232",
      "metadata": {
        "id": "f6cc53f3-9d5d-43e1-991b-473d0feec232",
        "outputId": "47fd7859-c83f-42cb-e3b9-23571db2b100",
        "colab": {
          "base_uri": "https://localhost:8080/",
          "height": 241
        }
      },
      "outputs": [
        {
          "output_type": "execute_result",
          "data": {
            "text/plain": [
              "19995    not much time off weekend work trip malmï¿½ fr...\n",
              "19996                                     one day holidays\n",
              "19997                     feeling right  hate damn humprey\n",
              "19998    geezi hv read whole book personality types emb...\n",
              "19999    threw sign donnie bent over get but thingee ma...\n",
              "Name: text, dtype: object"
            ],
            "text/html": [
              "<div>\n",
              "<style scoped>\n",
              "    .dataframe tbody tr th:only-of-type {\n",
              "        vertical-align: middle;\n",
              "    }\n",
              "\n",
              "    .dataframe tbody tr th {\n",
              "        vertical-align: top;\n",
              "    }\n",
              "\n",
              "    .dataframe thead th {\n",
              "        text-align: right;\n",
              "    }\n",
              "</style>\n",
              "<table border=\"1\" class=\"dataframe\">\n",
              "  <thead>\n",
              "    <tr style=\"text-align: right;\">\n",
              "      <th></th>\n",
              "      <th>text</th>\n",
              "    </tr>\n",
              "  </thead>\n",
              "  <tbody>\n",
              "    <tr>\n",
              "      <th>19995</th>\n",
              "      <td>not much time off weekend work trip malmï¿½ fr...</td>\n",
              "    </tr>\n",
              "    <tr>\n",
              "      <th>19996</th>\n",
              "      <td>one day holidays</td>\n",
              "    </tr>\n",
              "    <tr>\n",
              "      <th>19997</th>\n",
              "      <td>feeling right  hate damn humprey</td>\n",
              "    </tr>\n",
              "    <tr>\n",
              "      <th>19998</th>\n",
              "      <td>geezi hv read whole book personality types emb...</td>\n",
              "    </tr>\n",
              "    <tr>\n",
              "      <th>19999</th>\n",
              "      <td>threw sign donnie bent over get but thingee ma...</td>\n",
              "    </tr>\n",
              "  </tbody>\n",
              "</table>\n",
              "</div><br><label><b>dtype:</b> object</label>"
            ]
          },
          "metadata": {},
          "execution_count": 29
        }
      ],
      "source": [
        "# Cleaning and removing numeric numbers\n",
        "def cleaning_numbers(data):\n",
        "    return re.sub('[0-9]+', '', data)\n",
        "dataset['text'] = dataset['text'].apply(lambda x: cleaning_numbers(x))\n",
        "dataset['text'].tail()"
      ]
    },
    {
      "cell_type": "code",
      "execution_count": null,
      "id": "123edaf0-cd26-4d29-a044-d86f069c7faf",
      "metadata": {
        "id": "123edaf0-cd26-4d29-a044-d86f069c7faf",
        "outputId": "1f00fb8b-83ed-41fc-9034-415b928c0e9b",
        "colab": {
          "base_uri": "https://localhost:8080/",
          "height": 241
        }
      },
      "outputs": [
        {
          "output_type": "execute_result",
          "data": {
            "text/plain": [
              "800000             [love, healthuandpets, u, guys, r, best]\n",
              "800001    [im, meeting, one, besties, tonight, cant, wai...\n",
              "800002    [darealsunisakim, thanks, twitter, add, sunisa...\n",
              "800003    [sick, really, cheap, hurts, much, eat, real, ...\n",
              "800004                    [lovesbrooklyn, effect, everyone]\n",
              "Name: text, dtype: object"
            ],
            "text/html": [
              "<div>\n",
              "<style scoped>\n",
              "    .dataframe tbody tr th:only-of-type {\n",
              "        vertical-align: middle;\n",
              "    }\n",
              "\n",
              "    .dataframe tbody tr th {\n",
              "        vertical-align: top;\n",
              "    }\n",
              "\n",
              "    .dataframe thead th {\n",
              "        text-align: right;\n",
              "    }\n",
              "</style>\n",
              "<table border=\"1\" class=\"dataframe\">\n",
              "  <thead>\n",
              "    <tr style=\"text-align: right;\">\n",
              "      <th></th>\n",
              "      <th>text</th>\n",
              "    </tr>\n",
              "  </thead>\n",
              "  <tbody>\n",
              "    <tr>\n",
              "      <th>800000</th>\n",
              "      <td>[love, healthuandpets, u, guys, r, best]</td>\n",
              "    </tr>\n",
              "    <tr>\n",
              "      <th>800001</th>\n",
              "      <td>[im, meeting, one, besties, tonight, cant, wai...</td>\n",
              "    </tr>\n",
              "    <tr>\n",
              "      <th>800002</th>\n",
              "      <td>[darealsunisakim, thanks, twitter, add, sunisa...</td>\n",
              "    </tr>\n",
              "    <tr>\n",
              "      <th>800003</th>\n",
              "      <td>[sick, really, cheap, hurts, much, eat, real, ...</td>\n",
              "    </tr>\n",
              "    <tr>\n",
              "      <th>800004</th>\n",
              "      <td>[lovesbrooklyn, effect, everyone]</td>\n",
              "    </tr>\n",
              "  </tbody>\n",
              "</table>\n",
              "</div><br><label><b>dtype:</b> object</label>"
            ]
          },
          "metadata": {},
          "execution_count": 30
        }
      ],
      "source": [
        "# Tokenization of tweet text\n",
        "from nltk.tokenize import RegexpTokenizer\n",
        "tokenizer = RegexpTokenizer(r'\\w+')\n",
        "dataset['text'] = dataset['text'].apply(tokenizer.tokenize)\n",
        "dataset['text'].head()"
      ]
    },
    {
      "cell_type": "code",
      "execution_count": null,
      "id": "34f51086-14b8-4168-a123-0dcd3e0c4c22",
      "metadata": {
        "id": "34f51086-14b8-4168-a123-0dcd3e0c4c22",
        "outputId": "94f77dd5-e186-4414-f0d6-67e886d09ce0",
        "colab": {
          "base_uri": "https://localhost:8080/",
          "height": 241
        }
      },
      "outputs": [
        {
          "output_type": "execute_result",
          "data": {
            "text/plain": [
              "800000             [love, healthuandpets, u, guys, r, best]\n",
              "800001    [im, meeting, one, besties, tonight, cant, wai...\n",
              "800002    [darealsunisakim, thanks, twitter, add, sunisa...\n",
              "800003    [sick, really, cheap, hurts, much, eat, real, ...\n",
              "800004                    [lovesbrooklyn, effect, everyone]\n",
              "Name: text, dtype: object"
            ],
            "text/html": [
              "<div>\n",
              "<style scoped>\n",
              "    .dataframe tbody tr th:only-of-type {\n",
              "        vertical-align: middle;\n",
              "    }\n",
              "\n",
              "    .dataframe tbody tr th {\n",
              "        vertical-align: top;\n",
              "    }\n",
              "\n",
              "    .dataframe thead th {\n",
              "        text-align: right;\n",
              "    }\n",
              "</style>\n",
              "<table border=\"1\" class=\"dataframe\">\n",
              "  <thead>\n",
              "    <tr style=\"text-align: right;\">\n",
              "      <th></th>\n",
              "      <th>text</th>\n",
              "    </tr>\n",
              "  </thead>\n",
              "  <tbody>\n",
              "    <tr>\n",
              "      <th>800000</th>\n",
              "      <td>[love, healthuandpets, u, guys, r, best]</td>\n",
              "    </tr>\n",
              "    <tr>\n",
              "      <th>800001</th>\n",
              "      <td>[im, meeting, one, besties, tonight, cant, wai...</td>\n",
              "    </tr>\n",
              "    <tr>\n",
              "      <th>800002</th>\n",
              "      <td>[darealsunisakim, thanks, twitter, add, sunisa...</td>\n",
              "    </tr>\n",
              "    <tr>\n",
              "      <th>800003</th>\n",
              "      <td>[sick, really, cheap, hurts, much, eat, real, ...</td>\n",
              "    </tr>\n",
              "    <tr>\n",
              "      <th>800004</th>\n",
              "      <td>[lovesbrooklyn, effect, everyone]</td>\n",
              "    </tr>\n",
              "  </tbody>\n",
              "</table>\n",
              "</div><br><label><b>dtype:</b> object</label>"
            ]
          },
          "metadata": {},
          "execution_count": 31
        }
      ],
      "source": [
        "import nltk\n",
        "st = nltk.PorterStemmer()\n",
        "def stemming_on_text(data):\n",
        "    text = [st.stem(word) for word in data]\n",
        "    return data\n",
        "dataset['text']= dataset['text'].apply(lambda x: stemming_on_text(x))\n",
        "dataset['text'].head()"
      ]
    },
    {
      "cell_type": "code",
      "execution_count": null,
      "id": "e3f666af-117d-4080-bdaa-c18d29a8f433",
      "metadata": {
        "id": "e3f666af-117d-4080-bdaa-c18d29a8f433",
        "outputId": "c3dfaa93-b240-4ae0-8a35-a3add768bea9",
        "colab": {
          "base_uri": "https://localhost:8080/",
          "height": 258
        }
      },
      "outputs": [
        {
          "output_type": "stream",
          "name": "stderr",
          "text": [
            "[nltk_data] Downloading package wordnet to /root/nltk_data...\n"
          ]
        },
        {
          "output_type": "execute_result",
          "data": {
            "text/plain": [
              "800000             [love, healthuandpets, u, guys, r, best]\n",
              "800001    [im, meeting, one, besties, tonight, cant, wai...\n",
              "800002    [darealsunisakim, thanks, twitter, add, sunisa...\n",
              "800003    [sick, really, cheap, hurts, much, eat, real, ...\n",
              "800004                    [lovesbrooklyn, effect, everyone]\n",
              "Name: text, dtype: object"
            ],
            "text/html": [
              "<div>\n",
              "<style scoped>\n",
              "    .dataframe tbody tr th:only-of-type {\n",
              "        vertical-align: middle;\n",
              "    }\n",
              "\n",
              "    .dataframe tbody tr th {\n",
              "        vertical-align: top;\n",
              "    }\n",
              "\n",
              "    .dataframe thead th {\n",
              "        text-align: right;\n",
              "    }\n",
              "</style>\n",
              "<table border=\"1\" class=\"dataframe\">\n",
              "  <thead>\n",
              "    <tr style=\"text-align: right;\">\n",
              "      <th></th>\n",
              "      <th>text</th>\n",
              "    </tr>\n",
              "  </thead>\n",
              "  <tbody>\n",
              "    <tr>\n",
              "      <th>800000</th>\n",
              "      <td>[love, healthuandpets, u, guys, r, best]</td>\n",
              "    </tr>\n",
              "    <tr>\n",
              "      <th>800001</th>\n",
              "      <td>[im, meeting, one, besties, tonight, cant, wai...</td>\n",
              "    </tr>\n",
              "    <tr>\n",
              "      <th>800002</th>\n",
              "      <td>[darealsunisakim, thanks, twitter, add, sunisa...</td>\n",
              "    </tr>\n",
              "    <tr>\n",
              "      <th>800003</th>\n",
              "      <td>[sick, really, cheap, hurts, much, eat, real, ...</td>\n",
              "    </tr>\n",
              "    <tr>\n",
              "      <th>800004</th>\n",
              "      <td>[lovesbrooklyn, effect, everyone]</td>\n",
              "    </tr>\n",
              "  </tbody>\n",
              "</table>\n",
              "</div><br><label><b>dtype:</b> object</label>"
            ]
          },
          "metadata": {},
          "execution_count": 32
        }
      ],
      "source": [
        "# Applying lemmatizer\n",
        "import nltk\n",
        "nltk.download('wordnet')\n",
        "\n",
        "\n",
        "lm = nltk.WordNetLemmatizer()\n",
        "def lemmatizer_on_text(data):\n",
        "    text = [lm.lemmatize(word) for word in data]\n",
        "    return data\n",
        "dataset['text'] = dataset['text'].apply(lambda x: lemmatizer_on_text(x))\n",
        "dataset['text'].head()"
      ]
    },
    {
      "cell_type": "markdown",
      "id": "c25bf0ad-5f1a-4392-a401-90ecb2b2be42",
      "metadata": {
        "id": "c25bf0ad-5f1a-4392-a401-90ecb2b2be42"
      },
      "source": [
        "#### Splitting into X and y"
      ]
    },
    {
      "cell_type": "code",
      "execution_count": null,
      "id": "02057877-eab5-480b-9748-01ab2b7c9241",
      "metadata": {
        "id": "02057877-eab5-480b-9748-01ab2b7c9241"
      },
      "outputs": [],
      "source": [
        "X=data.text\n",
        "y=data.target"
      ]
    },
    {
      "cell_type": "markdown",
      "id": "dba44638-4fdd-48b1-99c3-9bfd0cf642e4",
      "metadata": {
        "id": "dba44638-4fdd-48b1-99c3-9bfd0cf642e4"
      },
      "source": [
        "## 5. Modelling:\n",
        "#### 95% data for training data and 5% for testing data"
      ]
    },
    {
      "cell_type": "code",
      "execution_count": null,
      "id": "51008ced-8591-4b48-b909-3e7d8edaaeed",
      "metadata": {
        "id": "51008ced-8591-4b48-b909-3e7d8edaaeed"
      },
      "outputs": [],
      "source": [
        "X_train, X_test, y_train, y_test = train_test_split(X,\n",
        "                                                    y,\n",
        "                                                    test_size = 0.05,\n",
        "                                                    random_state =42)"
      ]
    },
    {
      "cell_type": "code",
      "execution_count": null,
      "id": "b08b3d17-b994-4440-9deb-27fee5a58be7",
      "metadata": {
        "id": "b08b3d17-b994-4440-9deb-27fee5a58be7",
        "outputId": "24ea407d-2b6c-452a-abf0-fd5de378bcc8",
        "colab": {
          "base_uri": "https://localhost:8080/"
        }
      },
      "outputs": [
        {
          "output_type": "stream",
          "name": "stdout",
          "text": [
            "No. of feature_words:  500000\n"
          ]
        }
      ],
      "source": [
        "vectorizer = TfidfVectorizer(ngram_range=(1,2), max_features=500000)\n",
        "vectorizer.fit(X_train)\n",
        "print('No. of feature_words: ', len(vectorizer.vocabulary_))"
      ]
    },
    {
      "cell_type": "code",
      "execution_count": null,
      "id": "a8b1e32f-20e9-4be3-9ca3-264e5d87bc3b",
      "metadata": {
        "id": "a8b1e32f-20e9-4be3-9ca3-264e5d87bc3b"
      },
      "outputs": [],
      "source": [
        "X_train = vectorizer.transform(X_train)\n",
        "X_test  = vectorizer.transform(X_test)"
      ]
    },
    {
      "cell_type": "markdown",
      "source": [],
      "metadata": {
        "id": "NoGTh7ttJ6XW"
      },
      "id": "NoGTh7ttJ6XW"
    },
    {
      "cell_type": "code",
      "execution_count": null,
      "id": "3de513ca-5047-41aa-8843-750731410824",
      "metadata": {
        "id": "3de513ca-5047-41aa-8843-750731410824"
      },
      "outputs": [],
      "source": [
        "def model_Evaluate(model):\n",
        "\n",
        "    y_pred = model.predict(X_test)\n",
        "    print(classification_report(y_test, y_pred))\n",
        "\n",
        "    # Compute and plot the Confusion matrix\n",
        "    cf_matrix = confusion_matrix(y_test, y_pred)\n",
        "    categories = ['Negative','Positive']\n",
        "    group_names = ['True Neg','False Pos', 'False Neg','True Pos']\n",
        "\n",
        "    group_percentages = ['{0:.2%}'.format(value) for value in cf_matrix.flatten() / np.sum(cf_matrix)]\n",
        "    labels = [f'{v1}n{v2}' for v1, v2 in zip(group_names,group_percentages)]\n",
        "    labels = np.asarray(labels).reshape(2,2)\n",
        "    sns.heatmap(cf_matrix, annot = labels, cmap = 'Blues',fmt = '',\n",
        "    xticklabels = categories, yticklabels = categories)\n",
        "    plt.xlabel(\"Predicted values\", fontdict = {'size':14}, labelpad = 10)\n",
        "    plt.ylabel(\"Actual values\" , fontdict = {'size':14}, labelpad = 10)\n",
        "    plt.title(\"Confusion Matrix\", fontdict = {'size':18}, pad = 20)"
      ]
    },
    {
      "cell_type": "markdown",
      "id": "44f95931-95e6-40d7-8237-c8cea915aaf0",
      "metadata": {
        "id": "44f95931-95e6-40d7-8237-c8cea915aaf0"
      },
      "source": [
        "## Models\n",
        "We will be using Logistic Regression models to test our sentiment analysis model:\n",
        "\n"
      ]
    },
    {
      "cell_type": "markdown",
      "source": [],
      "metadata": {
        "id": "65WKzwofJZUX"
      },
      "id": "65WKzwofJZUX"
    },
    {
      "cell_type": "code",
      "execution_count": null,
      "id": "a7ac4af1-3099-427a-a0e0-b9050c95dddc",
      "metadata": {
        "id": "a7ac4af1-3099-427a-a0e0-b9050c95dddc"
      },
      "outputs": [],
      "source": [
        "LRmodel = LogisticRegression(C = 2, max_iter = 1000, n_jobs=-1)\n",
        "LRmodel.fit(X_train, y_train)"
      ]
    },
    {
      "cell_type": "code",
      "execution_count": 40,
      "id": "a2e4efdd-599a-4ae5-93c2-497fafaa3928",
      "metadata": {
        "id": "a2e4efdd-599a-4ae5-93c2-497fafaa3928",
        "outputId": "908c80ad-5676-48e5-a668-489d1d4ab28c",
        "colab": {
          "base_uri": "https://localhost:8080/",
          "height": 665
        }
      },
      "outputs": [
        {
          "output_type": "stream",
          "name": "stdout",
          "text": [
            "              precision    recall  f1-score   support\n",
            "\n",
            "           0       0.83      0.82      0.83     39999\n",
            "           1       0.82      0.84      0.83     40001\n",
            "\n",
            "    accuracy                           0.83     80000\n",
            "   macro avg       0.83      0.83      0.83     80000\n",
            "weighted avg       0.83      0.83      0.83     80000\n",
            "\n"
          ]
        },
        {
          "output_type": "display_data",
          "data": {
            "text/plain": [
              "<Figure size 640x480 with 2 Axes>"
            ],
            "image/png": "[encoded data removed]"
          },
          "metadata": {}
        }
      ],
      "source": [
        "model_Evaluate(LRmodel)"
      ]
    },
    {
      "cell_type": "code",
      "execution_count": 41,
      "id": "d01c6144-e710-4f87-acba-19911eafab94",
      "metadata": {
        "id": "d01c6144-e710-4f87-acba-19911eafab94"
      },
      "outputs": [],
      "source": [
        "y_pred3 = LRmodel.predict(X_test)"
      ]
    },
    {
      "cell_type": "markdown",
      "source": [],
      "metadata": {
        "id": "WJmQWUJBOgpg"
      },
      "id": "WJmQWUJBOgpg"
    },
    {
      "cell_type": "code",
      "execution_count": 42,
      "id": "6b3a5fe9-f9f4-4671-8970-9aaa66ad0017",
      "metadata": {
        "id": "6b3a5fe9-f9f4-4671-8970-9aaa66ad0017",
        "outputId": "5c531dbd-2000-444e-b2e1-57de92b929e9",
        "colab": {
          "base_uri": "https://localhost:8080/",
          "height": 472
        }
      },
      "outputs": [
        {
          "output_type": "display_data",
          "data": {
            "text/plain": [
              "<Figure size 640x480 with 1 Axes>"
            ],
            "image/png": "[encoded data removed]"
          },
          "metadata": {}
        }
      ],
      "source": [
        "# Plotting the ROC-AUC Curve for model-3\n",
        "\n",
        "from sklearn.metrics import roc_curve, auc\n",
        "fpr, tpr, thresholds = roc_curve(y_test, y_pred3)\n",
        "roc_auc = auc(fpr, tpr)\n",
        "plt.figure()\n",
        "plt.plot(fpr, tpr, color='cyan', lw=1, label='ROC curve (area = %0.2f)' % roc_auc)\n",
        "plt.xlim([0.0, 1.0])\n",
        "plt.ylim([0.0, 1.05])\n",
        "plt.xlabel('False Positive Rate')\n",
        "plt.ylabel('True Positive Rate')\n",
        "plt.title('ROC CURVE')\n",
        "plt.legend(loc=\"lower right\")\n",
        "plt.show()"
      ]
    },
    {
      "cell_type": "markdown",
      "source": [
        "CONCLUSION:\n",
        "\n",
        "From above result we got accuracy of 83%.\n",
        "\n",
        "Twiiter Sentimental Analysis is used to understand public emotions behind people’s tweets. Twitter Sentimental Analysis dataset helps us preprocess the data (tweets) using different methods and feed it into ML models to give the best accuracy."
      ],
      "metadata": {
        "id": "Q_a2_kjzKY12"
      },
      "id": "Q_a2_kjzKY12"
    }
  ],
  "metadata": {
    "kernelspec": {
      "display_name": "Python 3 (ipykernel)",
      "language": "python",
      "name": "python3"
    },
    "language_info": {
      "codemirror_mode": {
        "name": "ipython",
        "version": 3
      },
      "file_extension": ".py",
      "mimetype": "text/x-python",
      "name": "python",
      "nbconvert_exporter": "python",
      "pygments_lexer": "ipython3",
      "version": "3.11.8"
    },
    "colab": {
      "provenance": []
    }
  },
  "nbformat": 4,
  "nbformat_minor": 5
}